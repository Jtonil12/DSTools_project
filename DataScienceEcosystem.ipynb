{
  "cells": [
    {
      "cell_type": "markdown",
      "metadata": {
        "id": "view-in-github",
        "colab_type": "text"
      },
      "source": [
        "<a href=\"https://colab.research.google.com/github/Jtonil12/DSTools_project/blob/main/DataScienceEcosystem.ipynb\" target=\"_parent\"><img src=\"https://colab.research.google.com/assets/colab-badge.svg\" alt=\"Open In Colab\"/></a>"
      ]
    },
    {
      "cell_type": "markdown",
      "metadata": {
        "id": "9c5e64dc-2bc7-4640-9b71-877eda7b6100"
      },
      "source": [
        "<center>\n",
        "    <img src=\"https://cf-courses-data.s3.us.cloud-object-storage.appdomain.cloud/IBMDeveloperSkillsNetwork-DS0105EN-SkillsNetwork/labs/Module2/images/SN_web_lightmode.png\" width=\"300\" alt=\"cognitiveclass.ai logo\">\n",
        "</center>\n"
      ]
    },
    {
      "cell_type": "markdown",
      "metadata": {
        "id": "bca0d27a-24c6-4c43-b116-c73c8d9ab219"
      },
      "source": [
        "# Hands-on Lab: Create your Jupyter Notebook\n"
      ]
    },
    {
      "cell_type": "markdown",
      "metadata": {
        "id": "8b126e2f-912e-42e0-8d57-43862ac465fc"
      },
      "source": [
        "#### Add your code below following the instructions given in the course\n"
      ]
    },
    {
      "cell_type": "markdown",
      "source": [
        "Exercise 2: Create markdown cell with title of the notebook"
      ],
      "metadata": {
        "id": "SUzf6Bu5AQ3d"
      }
    },
    {
      "cell_type": "markdown",
      "source": [
        "#Data Science Tools and Ecosystem"
      ],
      "metadata": {
        "id": "jvFW2teV8Iuu"
      }
    },
    {
      "cell_type": "markdown",
      "source": [
        "Exercise 3 - Create a markdown cell for an introduction"
      ],
      "metadata": {
        "id": "rhVXuRhoAU6U"
      }
    },
    {
      "cell_type": "markdown",
      "source": [
        "In this notebook, Data Science Tools and Ecosystem are summarized."
      ],
      "metadata": {
        "id": "WuBE6q3088i3"
      }
    },
    {
      "cell_type": "markdown",
      "source": [
        "Exercise 4 - Create a markdown cell to list data science languages"
      ],
      "metadata": {
        "id": "MvATFlRUAai_"
      }
    },
    {
      "cell_type": "markdown",
      "source": [
        "Some of the popular languages that Data Scientists use are:\n",
        "1. Python\n",
        "2. SQL\n",
        "3. R\n",
        "4. Java\n",
        "5. Scala"
      ],
      "metadata": {
        "id": "cRnES8t09jIb"
      }
    },
    {
      "cell_type": "markdown",
      "source": [
        "Exercise 5 - Create a markdown cell to list data science libraries"
      ],
      "metadata": {
        "id": "ETrSLUwYAcHg"
      }
    },
    {
      "cell_type": "markdown",
      "source": [
        "Some of the commonly used libraries used by Data Scientists include:\n",
        "\n",
        "\n",
        "1. Numpy\n",
        "2. Pandas\n",
        "3. Seaborn\n",
        "4. Matplotlib\n",
        "5. Scikit-learn\n"
      ],
      "metadata": {
        "id": "F_BPyZAt9-ax"
      }
    },
    {
      "cell_type": "markdown",
      "source": [
        "Exercise 6 - Create a markdown cell with a table of Data Science tools"
      ],
      "metadata": {
        "id": "7k6ZpXdMAfhN"
      }
    },
    {
      "cell_type": "markdown",
      "source": [
        "|Data Science Tools|Open source?|\n",
        "|--|--|\n",
        "|Jupyter Notebook|Yes|\n",
        "|VS code|Yes|\n",
        "|Spider|Yes|\n",
        "|Rstudio|Yes|"
      ],
      "metadata": {
        "id": "HnQKsiVd-iB-"
      }
    },
    {
      "cell_type": "markdown",
      "source": [
        "Exercise 7 - Create a markdown cell introducing arithmetic expression examples"
      ],
      "metadata": {
        "id": "eenZ3athAscT"
      }
    },
    {
      "cell_type": "markdown",
      "source": [
        "###Below are a few examples of evaluating arithmetic expressions in Python"
      ],
      "metadata": {
        "id": "DFYiOOXH_S3-"
      }
    },
    {
      "cell_type": "markdown",
      "source": [
        "Exercise 8 - Create a code cell to multiply and add numbers"
      ],
      "metadata": {
        "id": "TjdO7A51Avvf"
      }
    },
    {
      "cell_type": "code",
      "source": [
        "#This a simple arithmetic expression to mutiply then add integers\n",
        "(3*4)+5"
      ],
      "metadata": {
        "colab": {
          "base_uri": "https://localhost:8080/"
        },
        "id": "cu2cXg3-_um-",
        "outputId": "0d2fa58e-7027-489e-bd82-9a7c6fb767b3"
      },
      "execution_count": 1,
      "outputs": [
        {
          "output_type": "execute_result",
          "data": {
            "text/plain": [
              "17"
            ]
          },
          "metadata": {},
          "execution_count": 1
        }
      ]
    },
    {
      "cell_type": "markdown",
      "source": [
        "Exercise 9 - Create a code cell to convert minutes to hours"
      ],
      "metadata": {
        "id": "8EnFZ232AytW"
      }
    },
    {
      "cell_type": "code",
      "source": [
        "#This will convert 200 minutes to hours by diving by 60\n",
        "min=200\n",
        "hours=min/60\n",
        "print(hours, \"horas\")"
      ],
      "metadata": {
        "colab": {
          "base_uri": "https://localhost:8080/"
        },
        "id": "8PFqCHx4_8J5",
        "outputId": "5e14fdf3-dd9a-47ea-a25f-36dbbd314f1b"
      },
      "execution_count": 3,
      "outputs": [
        {
          "output_type": "stream",
          "name": "stdout",
          "text": [
            "3.3333333333333335 horas\n"
          ]
        }
      ]
    },
    {
      "cell_type": "markdown",
      "source": [
        "Exercise 10 - Insert a markdown cell to list Objectives"
      ],
      "metadata": {
        "id": "gkZfx_V-A3G3"
      }
    },
    {
      "cell_type": "markdown",
      "source": [
        "**Objetives:**\n",
        "\n",
        "* Markdown and code cell creation.\n",
        "* Handling text styles in Markdown cells.\n",
        "* Documentation of code through comments.\n",
        "* Use of arithmetical operations in code cells.\n",
        "* Organization of information: tables, ordered and unordered lists.\n",
        "* Tools, libraries, and programming languages used in DS.\n",
        "\n"
      ],
      "metadata": {
        "id": "y36LI-5BA4L3"
      }
    },
    {
      "cell_type": "markdown",
      "source": [
        "Exercise 11 - Create a markdown cell to indicate the Author's name"
      ],
      "metadata": {
        "id": "x420i1KTA7V8"
      }
    },
    {
      "cell_type": "markdown",
      "source": [
        "##Javier Landa Tonil\n",
        "\n",
        "Author"
      ],
      "metadata": {
        "id": "tzxKUxUJBJe6"
      }
    },
    {
      "cell_type": "markdown",
      "metadata": {
        "id": "b5f467ed-efe7-45ac-a08b-b2d48c26ba81"
      },
      "source": [
        "Copyright ©2024 IBM Corporation. All rights reserved.\n"
      ]
    }
  ],
  "metadata": {
    "kernelspec": {
      "display_name": "Python",
      "language": "python",
      "name": "conda-env-python-py"
    },
    "language_info": {
      "name": "python",
      "version": "3.7.12",
      "mimetype": "text/x-python",
      "codemirror_mode": {
        "name": "ipython",
        "version": 3
      },
      "pygments_lexer": "ipython3",
      "nbconvert_exporter": "python",
      "file_extension": ".py"
    },
    "prev_pub_hash": "9e1985db9844176462bd1d5863048c9f3d17404bbc6a648be9084b0c42b29347",
    "colab": {
      "provenance": [],
      "include_colab_link": true
    }
  },
  "nbformat": 4,
  "nbformat_minor": 0
}